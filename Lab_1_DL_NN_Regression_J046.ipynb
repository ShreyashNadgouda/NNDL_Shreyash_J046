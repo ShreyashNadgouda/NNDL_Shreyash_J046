{
 "cells": [
  {
   "cell_type": "code",
   "execution_count": 36,
   "id": "199505f5",
   "metadata": {},
   "outputs": [],
   "source": [
    "import pandas as pd \n",
    "import numpy as np\n"
   ]
  },
  {
   "cell_type": "code",
   "execution_count": 37,
   "id": "733d6163",
   "metadata": {},
   "outputs": [],
   "source": [
    "df=pd.read_csv(\"dress_rental_prices.csv\")"
   ]
  },
  {
   "cell_type": "code",
   "execution_count": 38,
   "id": "d59f5556",
   "metadata": {},
   "outputs": [
    {
     "data": {
      "text/html": [
       "<div>\n",
       "<style scoped>\n",
       "    .dataframe tbody tr th:only-of-type {\n",
       "        vertical-align: middle;\n",
       "    }\n",
       "\n",
       "    .dataframe tbody tr th {\n",
       "        vertical-align: top;\n",
       "    }\n",
       "\n",
       "    .dataframe thead th {\n",
       "        text-align: right;\n",
       "    }\n",
       "</style>\n",
       "<table border=\"1\" class=\"dataframe\">\n",
       "  <thead>\n",
       "    <tr style=\"text-align: right;\">\n",
       "      <th></th>\n",
       "      <th>Unnamed: 0</th>\n",
       "      <th>ID</th>\n",
       "      <th>Name</th>\n",
       "      <th>Brand</th>\n",
       "      <th>Colour</th>\n",
       "      <th>Catagories</th>\n",
       "      <th>Price</th>\n",
       "    </tr>\n",
       "  </thead>\n",
       "  <tbody>\n",
       "    <tr>\n",
       "      <th>0</th>\n",
       "      <td>0</td>\n",
       "      <td>74416</td>\n",
       "      <td>Runway stripe dress</td>\n",
       "      <td>Stella McCartney</td>\n",
       "      <td>beige</td>\n",
       "      <td>dresses</td>\n",
       "      <td>111</td>\n",
       "    </tr>\n",
       "    <tr>\n",
       "      <th>1</th>\n",
       "      <td>1</td>\n",
       "      <td>73815</td>\n",
       "      <td>Reformation Kourtney Dress</td>\n",
       "      <td>Reformation</td>\n",
       "      <td>beige</td>\n",
       "      <td>dresses</td>\n",
       "      <td>50</td>\n",
       "    </tr>\n",
       "    <tr>\n",
       "      <th>2</th>\n",
       "      <td>2</td>\n",
       "      <td>73801</td>\n",
       "      <td>Ivory Viola bridal dress</td>\n",
       "      <td>Ghost</td>\n",
       "      <td>beige</td>\n",
       "      <td>dresses</td>\n",
       "      <td>75</td>\n",
       "    </tr>\n",
       "    <tr>\n",
       "      <th>3</th>\n",
       "      <td>3</td>\n",
       "      <td>73718</td>\n",
       "      <td>Pasu Dress - Rhino Tusk</td>\n",
       "      <td>Coucoo</td>\n",
       "      <td>beige</td>\n",
       "      <td>dresses</td>\n",
       "      <td>37</td>\n",
       "    </tr>\n",
       "    <tr>\n",
       "      <th>4</th>\n",
       "      <td>4</td>\n",
       "      <td>73605</td>\n",
       "      <td>Ellen</td>\n",
       "      <td>RIXO</td>\n",
       "      <td>beige</td>\n",
       "      <td>dresses</td>\n",
       "      <td>47</td>\n",
       "    </tr>\n",
       "    <tr>\n",
       "      <th>5</th>\n",
       "      <td>5</td>\n",
       "      <td>73583</td>\n",
       "      <td>Elena Dress Crystal Garden</td>\n",
       "      <td>Stine Goya</td>\n",
       "      <td>beige</td>\n",
       "      <td>dresses</td>\n",
       "      <td>64</td>\n",
       "    </tr>\n",
       "    <tr>\n",
       "      <th>6</th>\n",
       "      <td>6</td>\n",
       "      <td>73007</td>\n",
       "      <td>OBlanc Dress</td>\n",
       "      <td>New Arrivals</td>\n",
       "      <td>beige</td>\n",
       "      <td>dresses</td>\n",
       "      <td>145</td>\n",
       "    </tr>\n",
       "    <tr>\n",
       "      <th>7</th>\n",
       "      <td>7</td>\n",
       "      <td>73245</td>\n",
       "      <td>Melody Dress</td>\n",
       "      <td>Melissa Odabash</td>\n",
       "      <td>beige</td>\n",
       "      <td>dresses</td>\n",
       "      <td>52</td>\n",
       "    </tr>\n",
       "    <tr>\n",
       "      <th>8</th>\n",
       "      <td>8</td>\n",
       "      <td>73050</td>\n",
       "      <td>Isamaya Dress</td>\n",
       "      <td>Rat &amp; Boa</td>\n",
       "      <td>beige</td>\n",
       "      <td>dresses</td>\n",
       "      <td>38</td>\n",
       "    </tr>\n",
       "    <tr>\n",
       "      <th>9</th>\n",
       "      <td>9</td>\n",
       "      <td>73019</td>\n",
       "      <td>Belted Animal Print Mini Dress</td>\n",
       "      <td>ROTATE BIRGER CHRISTENSEN</td>\n",
       "      <td>beige</td>\n",
       "      <td>dresses</td>\n",
       "      <td>39</td>\n",
       "    </tr>\n",
       "    <tr>\n",
       "      <th>10</th>\n",
       "      <td>10</td>\n",
       "      <td>72873</td>\n",
       "      <td>Pasu Dress in Rhino Tusk</td>\n",
       "      <td>Coucoo</td>\n",
       "      <td>beige</td>\n",
       "      <td>dresses</td>\n",
       "      <td>38</td>\n",
       "    </tr>\n",
       "    <tr>\n",
       "      <th>11</th>\n",
       "      <td>11</td>\n",
       "      <td>72572</td>\n",
       "      <td>Embellished Strapless Midi Dre</td>\n",
       "      <td>alexandre vauthier</td>\n",
       "      <td>beige</td>\n",
       "      <td>dresses</td>\n",
       "      <td>72</td>\n",
       "    </tr>\n",
       "    <tr>\n",
       "      <th>12</th>\n",
       "      <td>12</td>\n",
       "      <td>73572</td>\n",
       "      <td>Mark Dress Abstract</td>\n",
       "      <td>Stine Goya</td>\n",
       "      <td>beige</td>\n",
       "      <td>dresses</td>\n",
       "      <td>45</td>\n",
       "    </tr>\n",
       "    <tr>\n",
       "      <th>13</th>\n",
       "      <td>13</td>\n",
       "      <td>72762</td>\n",
       "      <td>Rose wrap dress</td>\n",
       "      <td>Farm Rio</td>\n",
       "      <td>beige</td>\n",
       "      <td>dresses</td>\n",
       "      <td>39</td>\n",
       "    </tr>\n",
       "    <tr>\n",
       "      <th>14</th>\n",
       "      <td>14</td>\n",
       "      <td>73880</td>\n",
       "      <td>Jade starfish</td>\n",
       "      <td>RIXO</td>\n",
       "      <td>beige</td>\n",
       "      <td>dresses</td>\n",
       "      <td>63</td>\n",
       "    </tr>\n",
       "    <tr>\n",
       "      <th>15</th>\n",
       "      <td>15</td>\n",
       "      <td>72752</td>\n",
       "      <td>MARI SATIN MIDI DRESS</td>\n",
       "      <td>Ghost</td>\n",
       "      <td>beige</td>\n",
       "      <td>dresses</td>\n",
       "      <td>33</td>\n",
       "    </tr>\n",
       "    <tr>\n",
       "      <th>16</th>\n",
       "      <td>16</td>\n",
       "      <td>72672</td>\n",
       "      <td>JOANIE WHITE</td>\n",
       "      <td>RIXO</td>\n",
       "      <td>beige</td>\n",
       "      <td>dresses</td>\n",
       "      <td>38</td>\n",
       "    </tr>\n",
       "    <tr>\n",
       "      <th>17</th>\n",
       "      <td>17</td>\n",
       "      <td>73348</td>\n",
       "      <td>Bea Dress</td>\n",
       "      <td>Reiss</td>\n",
       "      <td>beige</td>\n",
       "      <td>dresses</td>\n",
       "      <td>51</td>\n",
       "    </tr>\n",
       "    <tr>\n",
       "      <th>18</th>\n",
       "      <td>18</td>\n",
       "      <td>72570</td>\n",
       "      <td>Bartola Dress</td>\n",
       "      <td>Gimaguas</td>\n",
       "      <td>beige</td>\n",
       "      <td>dresses</td>\n",
       "      <td>43</td>\n",
       "    </tr>\n",
       "    <tr>\n",
       "      <th>19</th>\n",
       "      <td>19</td>\n",
       "      <td>73479</td>\n",
       "      <td>The Shantel in Ditsy Floral</td>\n",
       "      <td>RIXO</td>\n",
       "      <td>beige</td>\n",
       "      <td>dresses</td>\n",
       "      <td>44</td>\n",
       "    </tr>\n",
       "  </tbody>\n",
       "</table>\n",
       "</div>"
      ],
      "text/plain": [
       "    Unnamed: 0     ID                            Name  \\\n",
       "0            0  74416             Runway stripe dress   \n",
       "1            1  73815      Reformation Kourtney Dress   \n",
       "2            2  73801        Ivory Viola bridal dress   \n",
       "3            3  73718         Pasu Dress - Rhino Tusk   \n",
       "4            4  73605                           Ellen   \n",
       "5            5  73583     Elena Dress Crystal Garden    \n",
       "6            6  73007                   OBlanc Dress    \n",
       "7            7  73245                    Melody Dress   \n",
       "8            8  73050                   Isamaya Dress   \n",
       "9            9  73019  Belted Animal Print Mini Dress   \n",
       "10          10  72873        Pasu Dress in Rhino Tusk   \n",
       "11          11  72572  Embellished Strapless Midi Dre   \n",
       "12          12  73572             Mark Dress Abstract   \n",
       "13          13  72762                 Rose wrap dress   \n",
       "14          14  73880                   Jade starfish   \n",
       "15          15  72752           MARI SATIN MIDI DRESS   \n",
       "16          16  72672                    JOANIE WHITE   \n",
       "17          17  73348                       Bea Dress   \n",
       "18          18  72570                   Bartola Dress   \n",
       "19          19  73479     The Shantel in Ditsy Floral   \n",
       "\n",
       "                        Brand Colour Catagories  Price  \n",
       "0            Stella McCartney  beige    dresses    111  \n",
       "1                 Reformation  beige    dresses     50  \n",
       "2                       Ghost  beige    dresses     75  \n",
       "3                      Coucoo  beige    dresses     37  \n",
       "4                        RIXO  beige    dresses     47  \n",
       "5                  Stine Goya  beige    dresses     64  \n",
       "6                New Arrivals  beige    dresses    145  \n",
       "7             Melissa Odabash  beige    dresses     52  \n",
       "8                   Rat & Boa  beige    dresses     38  \n",
       "9   ROTATE BIRGER CHRISTENSEN  beige    dresses     39  \n",
       "10                     Coucoo  beige    dresses     38  \n",
       "11         alexandre vauthier  beige    dresses     72  \n",
       "12                 Stine Goya  beige    dresses     45  \n",
       "13                   Farm Rio  beige    dresses     39  \n",
       "14                       RIXO  beige    dresses     63  \n",
       "15                      Ghost  beige    dresses     33  \n",
       "16                       RIXO  beige    dresses     38  \n",
       "17                      Reiss  beige    dresses     51  \n",
       "18                   Gimaguas  beige    dresses     43  \n",
       "19                       RIXO  beige    dresses     44  "
      ]
     },
     "execution_count": 38,
     "metadata": {},
     "output_type": "execute_result"
    }
   ],
   "source": [
    "df.head(20)"
   ]
  },
  {
   "cell_type": "code",
   "execution_count": 39,
   "id": "b759acd9",
   "metadata": {},
   "outputs": [
    {
     "data": {
      "text/plain": [
       "<bound method DataFrame.info of        Unnamed: 0     ID                                    Name  \\\n",
       "0               0  74416                     Runway stripe dress   \n",
       "1               1  73815              Reformation Kourtney Dress   \n",
       "2               2  73801                Ivory Viola bridal dress   \n",
       "3               3  73718                 Pasu Dress - Rhino Tusk   \n",
       "4               4  73605                                   Ellen   \n",
       "...           ...    ...                                     ...   \n",
       "29992       29992    872  Silk and wool-blend crepe dress yellow   \n",
       "29993       29993    871                 La Guardia Matching Set   \n",
       "29994       29994    844   One-shoulder ruffled crepe mini dress   \n",
       "29995       29995    592                            Billie Dress   \n",
       "29996       29996    231   Yellow Maddie Striped-knit Mini Dress   \n",
       "\n",
       "                     Brand  Colour  \\\n",
       "0         Stella McCartney   beige   \n",
       "1              Reformation   beige   \n",
       "2                    Ghost   beige   \n",
       "3                   Coucoo   beige   \n",
       "4                     RIXO   beige   \n",
       "...                    ...     ...   \n",
       "29992     Victoria Beckham  yellow   \n",
       "29993  Faithfull The Brand  yellow   \n",
       "29994        Solace London  yellow   \n",
       "29995     Rebecca Vallance  yellow   \n",
       "29996      Melissa Odabash  yellow   \n",
       "\n",
       "                                              Catagories  Price  \n",
       "0                                                dresses    111  \n",
       "1                                                dresses     50  \n",
       "2                                                dresses     75  \n",
       "3                                                dresses     37  \n",
       "4                                                dresses     47  \n",
       "...                                                  ...    ...  \n",
       "29992  dresses, Smart, midi, Short Sleeve, Pencil, Mo...    102  \n",
       "29993  dresses, Floral, Polka Dot, Loose, Smart Casua...     43  \n",
       "29994  dresses, Vinyl-PVC-Synthetics, Smart, Formal, ...     75  \n",
       "29995  dresses, Cotton-Jersey, Tie-Front, Skinny-Fit,...     42  \n",
       "29996  dresses, Wool-Cashmere, Horizontal Stripe, Cas...     32  \n",
       "\n",
       "[29997 rows x 7 columns]>"
      ]
     },
     "execution_count": 39,
     "metadata": {},
     "output_type": "execute_result"
    }
   ],
   "source": [
    "df.info"
   ]
  },
  {
   "cell_type": "code",
   "execution_count": 40,
   "id": "046d7c54",
   "metadata": {},
   "outputs": [
    {
     "data": {
      "text/plain": [
       "Unnamed: 0      0\n",
       "ID              0\n",
       "Name            2\n",
       "Brand           0\n",
       "Colour          0\n",
       "Catagories    114\n",
       "Price           0\n",
       "dtype: int64"
      ]
     },
     "execution_count": 40,
     "metadata": {},
     "output_type": "execute_result"
    }
   ],
   "source": [
    "df.isna().sum()"
   ]
  },
  {
   "cell_type": "code",
   "execution_count": 41,
   "id": "6edc135e",
   "metadata": {},
   "outputs": [],
   "source": [
    "import matplotlib.pyplot as plt\n",
    "import seaborn as sns\n",
    "from sklearn.linear_model import LinearRegression\n",
    "from sklearn.model_selection import train_test_split\n",
    "from sklearn.metrics import mean_squared_error, r2_score"
   ]
  },
  {
   "cell_type": "code",
   "execution_count": 42,
   "id": "f0b301cd",
   "metadata": {},
   "outputs": [],
   "source": [
    "df.drop(columns=['Unnamed: 0'], inplace=True)"
   ]
  },
  {
   "cell_type": "code",
   "execution_count": 43,
   "id": "a2ce33a1",
   "metadata": {},
   "outputs": [
    {
     "data": {
      "text/html": [
       "<div>\n",
       "<style scoped>\n",
       "    .dataframe tbody tr th:only-of-type {\n",
       "        vertical-align: middle;\n",
       "    }\n",
       "\n",
       "    .dataframe tbody tr th {\n",
       "        vertical-align: top;\n",
       "    }\n",
       "\n",
       "    .dataframe thead th {\n",
       "        text-align: right;\n",
       "    }\n",
       "</style>\n",
       "<table border=\"1\" class=\"dataframe\">\n",
       "  <thead>\n",
       "    <tr style=\"text-align: right;\">\n",
       "      <th></th>\n",
       "      <th>ID</th>\n",
       "      <th>Name</th>\n",
       "      <th>Brand</th>\n",
       "      <th>Colour</th>\n",
       "      <th>Catagories</th>\n",
       "      <th>Price</th>\n",
       "    </tr>\n",
       "  </thead>\n",
       "  <tbody>\n",
       "    <tr>\n",
       "      <th>0</th>\n",
       "      <td>74416</td>\n",
       "      <td>Runway stripe dress</td>\n",
       "      <td>Stella McCartney</td>\n",
       "      <td>beige</td>\n",
       "      <td>dresses</td>\n",
       "      <td>111</td>\n",
       "    </tr>\n",
       "    <tr>\n",
       "      <th>1</th>\n",
       "      <td>73815</td>\n",
       "      <td>Reformation Kourtney Dress</td>\n",
       "      <td>Reformation</td>\n",
       "      <td>beige</td>\n",
       "      <td>dresses</td>\n",
       "      <td>50</td>\n",
       "    </tr>\n",
       "    <tr>\n",
       "      <th>2</th>\n",
       "      <td>73801</td>\n",
       "      <td>Ivory Viola bridal dress</td>\n",
       "      <td>Ghost</td>\n",
       "      <td>beige</td>\n",
       "      <td>dresses</td>\n",
       "      <td>75</td>\n",
       "    </tr>\n",
       "    <tr>\n",
       "      <th>3</th>\n",
       "      <td>73718</td>\n",
       "      <td>Pasu Dress - Rhino Tusk</td>\n",
       "      <td>Coucoo</td>\n",
       "      <td>beige</td>\n",
       "      <td>dresses</td>\n",
       "      <td>37</td>\n",
       "    </tr>\n",
       "    <tr>\n",
       "      <th>4</th>\n",
       "      <td>73605</td>\n",
       "      <td>Ellen</td>\n",
       "      <td>RIXO</td>\n",
       "      <td>beige</td>\n",
       "      <td>dresses</td>\n",
       "      <td>47</td>\n",
       "    </tr>\n",
       "  </tbody>\n",
       "</table>\n",
       "</div>"
      ],
      "text/plain": [
       "      ID                        Name             Brand Colour Catagories  \\\n",
       "0  74416         Runway stripe dress  Stella McCartney  beige    dresses   \n",
       "1  73815  Reformation Kourtney Dress       Reformation  beige    dresses   \n",
       "2  73801    Ivory Viola bridal dress             Ghost  beige    dresses   \n",
       "3  73718     Pasu Dress - Rhino Tusk            Coucoo  beige    dresses   \n",
       "4  73605                       Ellen              RIXO  beige    dresses   \n",
       "\n",
       "   Price  \n",
       "0    111  \n",
       "1     50  \n",
       "2     75  \n",
       "3     37  \n",
       "4     47  "
      ]
     },
     "execution_count": 43,
     "metadata": {},
     "output_type": "execute_result"
    }
   ],
   "source": [
    "df.head()"
   ]
  },
  {
   "cell_type": "code",
   "execution_count": 44,
   "id": "d0d6554c",
   "metadata": {},
   "outputs": [],
   "source": [
    "df.dropna(subset=['Name'], inplace=True)"
   ]
  },
  {
   "cell_type": "code",
   "execution_count": 45,
   "id": "43ff6e57",
   "metadata": {},
   "outputs": [
    {
     "data": {
      "text/plain": [
       "ID              0\n",
       "Name            0\n",
       "Brand           0\n",
       "Colour          0\n",
       "Catagories    114\n",
       "Price           0\n",
       "dtype: int64"
      ]
     },
     "execution_count": 45,
     "metadata": {},
     "output_type": "execute_result"
    }
   ],
   "source": [
    "df.isna().sum()"
   ]
  },
  {
   "cell_type": "code",
   "execution_count": 46,
   "id": "14ff4189",
   "metadata": {},
   "outputs": [],
   "source": [
    "df['Catagories'].fillna('Unknown', inplace=True)"
   ]
  },
  {
   "cell_type": "code",
   "execution_count": 47,
   "id": "f91c89d6",
   "metadata": {},
   "outputs": [],
   "source": [
    "df['Price'] = pd.to_numeric(df['Price'], errors='coerce')"
   ]
  },
  {
   "cell_type": "code",
   "execution_count": 48,
   "id": "aa080f96",
   "metadata": {},
   "outputs": [
    {
     "name": "stdout",
     "output_type": "stream",
     "text": [
      "<class 'pandas.core.frame.DataFrame'>\n",
      "Int64Index: 29995 entries, 0 to 29996\n",
      "Data columns (total 6 columns):\n",
      " #   Column      Non-Null Count  Dtype \n",
      "---  ------      --------------  ----- \n",
      " 0   ID          29995 non-null  int64 \n",
      " 1   Name        29995 non-null  object\n",
      " 2   Brand       29995 non-null  object\n",
      " 3   Colour      29995 non-null  object\n",
      " 4   Catagories  29995 non-null  object\n",
      " 5   Price       29995 non-null  int64 \n",
      "dtypes: int64(2), object(4)\n",
      "memory usage: 1.6+ MB\n",
      "None\n"
     ]
    }
   ],
   "source": [
    "print(df.info())"
   ]
  },
  {
   "cell_type": "code",
   "execution_count": 49,
   "id": "4ece24a6",
   "metadata": {},
   "outputs": [
    {
     "data": {
      "image/png": "[encoded data removed]",
      "text/plain": [
       "<Figure size 1000x600 with 1 Axes>"
      ]
     },
     "metadata": {},
     "output_type": "display_data"
    }
   ],
   "source": [
    "plt.figure(figsize=(10, 6))\n",
    "sns.histplot(df['Price'], bins=30, kde=True)\n",
    "plt.title('Distribution of Rental Prices')\n",
    "plt.xlabel('Price')\n",
    "plt.ylabel('Frequency')\n",
    "plt.show()"
   ]
  },
  {
   "cell_type": "code",
   "execution_count": 50,
   "id": "dd85a07e",
   "metadata": {},
   "outputs": [],
   "source": [
    "from sklearn.preprocessing import OneHotEncoder"
   ]
  },
  {
   "cell_type": "code",
   "execution_count": 51,
   "id": "c4dd0f4a",
   "metadata": {},
   "outputs": [],
   "source": [
    "encoder = OneHotEncoder(drop='first')\n",
    "encoded_brands = encoder.fit_transform(df[['Brand']]).toarray()\n"
   ]
  },
  {
   "cell_type": "code",
   "execution_count": 52,
   "id": "2e1ea582",
   "metadata": {},
   "outputs": [],
   "source": [
    "X = encoded_brands\n",
    "y = df['Price']"
   ]
  },
  {
   "cell_type": "code",
   "execution_count": 53,
   "id": "6adb2416",
   "metadata": {},
   "outputs": [],
   "source": [
    "X_train, X_test, y_train, y_test = train_test_split(X, y, test_size=0.3, random_state=42)"
   ]
  },
  {
   "cell_type": "code",
   "execution_count": 54,
   "id": "82826910",
   "metadata": {},
   "outputs": [
    {
     "data": {
      "text/html": [
       "<style>#sk-container-id-2 {color: black;}#sk-container-id-2 pre{padding: 0;}#sk-container-id-2 div.sk-toggleable {background-color: white;}#sk-container-id-2 label.sk-toggleable__label {cursor: pointer;display: block;width: 100%;margin-bottom: 0;padding: 0.3em;box-sizing: border-box;text-align: center;}#sk-container-id-2 label.sk-toggleable__label-arrow:before {content: \"▸\";float: left;margin-right: 0.25em;color: #696969;}#sk-container-id-2 label.sk-toggleable__label-arrow:hover:before {color: black;}#sk-container-id-2 div.sk-estimator:hover label.sk-toggleable__label-arrow:before {color: black;}#sk-container-id-2 div.sk-toggleable__content {max-height: 0;max-width: 0;overflow: hidden;text-align: left;background-color: #f0f8ff;}#sk-container-id-2 div.sk-toggleable__content pre {margin: 0.2em;color: black;border-radius: 0.25em;background-color: #f0f8ff;}#sk-container-id-2 input.sk-toggleable__control:checked~div.sk-toggleable__content {max-height: 200px;max-width: 100%;overflow: auto;}#sk-container-id-2 input.sk-toggleable__control:checked~label.sk-toggleable__label-arrow:before {content: \"▾\";}#sk-container-id-2 div.sk-estimator input.sk-toggleable__control:checked~label.sk-toggleable__label {background-color: #d4ebff;}#sk-container-id-2 div.sk-label input.sk-toggleable__control:checked~label.sk-toggleable__label {background-color: #d4ebff;}#sk-container-id-2 input.sk-hidden--visually {border: 0;clip: rect(1px 1px 1px 1px);clip: rect(1px, 1px, 1px, 1px);height: 1px;margin: -1px;overflow: hidden;padding: 0;position: absolute;width: 1px;}#sk-container-id-2 div.sk-estimator {font-family: monospace;background-color: #f0f8ff;border: 1px dotted black;border-radius: 0.25em;box-sizing: border-box;margin-bottom: 0.5em;}#sk-container-id-2 div.sk-estimator:hover {background-color: #d4ebff;}#sk-container-id-2 div.sk-parallel-item::after {content: \"\";width: 100%;border-bottom: 1px solid gray;flex-grow: 1;}#sk-container-id-2 div.sk-label:hover label.sk-toggleable__label {background-color: #d4ebff;}#sk-container-id-2 div.sk-serial::before {content: \"\";position: absolute;border-left: 1px solid gray;box-sizing: border-box;top: 0;bottom: 0;left: 50%;z-index: 0;}#sk-container-id-2 div.sk-serial {display: flex;flex-direction: column;align-items: center;background-color: white;padding-right: 0.2em;padding-left: 0.2em;position: relative;}#sk-container-id-2 div.sk-item {position: relative;z-index: 1;}#sk-container-id-2 div.sk-parallel {display: flex;align-items: stretch;justify-content: center;background-color: white;position: relative;}#sk-container-id-2 div.sk-item::before, #sk-container-id-2 div.sk-parallel-item::before {content: \"\";position: absolute;border-left: 1px solid gray;box-sizing: border-box;top: 0;bottom: 0;left: 50%;z-index: -1;}#sk-container-id-2 div.sk-parallel-item {display: flex;flex-direction: column;z-index: 1;position: relative;background-color: white;}#sk-container-id-2 div.sk-parallel-item:first-child::after {align-self: flex-end;width: 50%;}#sk-container-id-2 div.sk-parallel-item:last-child::after {align-self: flex-start;width: 50%;}#sk-container-id-2 div.sk-parallel-item:only-child::after {width: 0;}#sk-container-id-2 div.sk-dashed-wrapped {border: 1px dashed gray;margin: 0 0.4em 0.5em 0.4em;box-sizing: border-box;padding-bottom: 0.4em;background-color: white;}#sk-container-id-2 div.sk-label label {font-family: monospace;font-weight: bold;display: inline-block;line-height: 1.2em;}#sk-container-id-2 div.sk-label-container {text-align: center;}#sk-container-id-2 div.sk-container {/* jupyter's `normalize.less` sets `[hidden] { display: none; }` but bootstrap.min.css set `[hidden] { display: none !important; }` so we also need the `!important` here to be able to override the default hidden behavior on the sphinx rendered scikit-learn.org. See: https://github.com/scikit-learn/scikit-learn/issues/21755 */display: inline-block !important;position: relative;}#sk-container-id-2 div.sk-text-repr-fallback {display: none;}</style><div id=\"sk-container-id-2\" class=\"sk-top-container\"><div class=\"sk-text-repr-fallback\"><pre>LinearRegression()</pre><b>In a Jupyter environment, please rerun this cell to show the HTML representation or trust the notebook. <br />On GitHub, the HTML representation is unable to render, please try loading this page with nbviewer.org.</b></div><div class=\"sk-container\" hidden><div class=\"sk-item\"><div class=\"sk-estimator sk-toggleable\"><input class=\"sk-toggleable__control sk-hidden--visually\" id=\"sk-estimator-id-2\" type=\"checkbox\" checked><label for=\"sk-estimator-id-2\" class=\"sk-toggleable__label sk-toggleable__label-arrow\">LinearRegression</label><div class=\"sk-toggleable__content\"><pre>LinearRegression()</pre></div></div></div></div></div>"
      ],
      "text/plain": [
       "LinearRegression()"
      ]
     },
     "execution_count": 54,
     "metadata": {},
     "output_type": "execute_result"
    }
   ],
   "source": [
    "model = LinearRegression()\n",
    "model.fit(X_train, y_train)"
   ]
  },
  {
   "cell_type": "code",
   "execution_count": 55,
   "id": "51abb24b",
   "metadata": {},
   "outputs": [],
   "source": [
    "y_pred = model.predict(X_test)"
   ]
  },
  {
   "cell_type": "code",
   "execution_count": 56,
   "id": "81715f2c",
   "metadata": {},
   "outputs": [
    {
     "name": "stdout",
     "output_type": "stream",
     "text": [
      "Mean Squared Error: 1.0147590099458072e+27\n",
      "R-squared: -6.782536152439944e+23\n"
     ]
    }
   ],
   "source": [
    "mse = mean_squared_error(y_test, y_pred)\n",
    "r2 = r2_score(y_test, y_pred)\n",
    "\n",
    "print(f\"Mean Squared Error: {mse}\")\n",
    "print(f\"R-squared: {r2}\")"
   ]
  },
  {
   "cell_type": "code",
   "execution_count": 57,
   "id": "72d6941b",
   "metadata": {},
   "outputs": [
    {
     "data": {
      "image/png": "[encoded data removed]",
      "text/plain": [
       "<Figure size 1000x600 with 1 Axes>"
      ]
     },
     "metadata": {},
     "output_type": "display_data"
    }
   ],
   "source": [
    "plt.figure(figsize=(10, 6))\n",
    "sns.boxplot(df['Price'])\n",
    "plt.title('Boxplot of Rental Prices')\n",
    "plt.show()\n"
   ]
  },
  {
   "cell_type": "code",
   "execution_count": 58,
   "id": "17a1f120",
   "metadata": {},
   "outputs": [],
   "source": [
    "Q1 = df['Price'].quantile(0.25)\n",
    "Q3 = df['Price'].quantile(0.75)\n",
    "IQR = Q3 - Q1\n",
    "lower_bound = Q1 - 1.5 * IQR\n",
    "upper_bound = Q3 + 1.5 * IQR"
   ]
  },
  {
   "cell_type": "code",
   "execution_count": 59,
   "id": "d0c43d19",
   "metadata": {},
   "outputs": [
    {
     "name": "stdout",
     "output_type": "stream",
     "text": [
      "Original dataset size: 29995, Filtered dataset size: 27503\n"
     ]
    }
   ],
   "source": [
    "df_filtered = df[(df['Price'] >= lower_bound) & (df['Price'] <= upper_bound)]\n",
    "print(f\"Original dataset size: {df.shape[0]}, Filtered dataset size: {df_filtered.shape[0]}\")"
   ]
  },
  {
   "cell_type": "code",
   "execution_count": 60,
   "id": "90d11048",
   "metadata": {},
   "outputs": [],
   "source": [
    "encoder = OneHotEncoder(drop='first')\n",
    "encoded_features = encoder.fit_transform(df_filtered[['Brand', 'Colour']]).toarray()\n"
   ]
  },
  {
   "cell_type": "code",
   "execution_count": 61,
   "id": "10a9432b",
   "metadata": {},
   "outputs": [],
   "source": [
    "X = encoded_features\n",
    "y = df_filtered['Price']"
   ]
  },
  {
   "cell_type": "code",
   "execution_count": 62,
   "id": "45c1c9a2",
   "metadata": {},
   "outputs": [
    {
     "name": "stdout",
     "output_type": "stream",
     "text": [
      "Mean Squared Error after filtering and including more features: 1.9599192315123147e+26\n",
      "R-squared after filtering and including more features: -5.604440918593653e+23\n"
     ]
    }
   ],
   "source": [
    "X_train, X_test, y_train, y_test = train_test_split(X, y, test_size=0.3, random_state=42)\n",
    "from sklearn.preprocessing import StandardScaler\n",
    "scaler = StandardScaler()\n",
    "X_train = scaler.fit_transform(X_train)\n",
    "X_test = scaler.transform(X_test)\n",
    "model = LinearRegression()\n",
    "model.fit(X_train, y_train)\n",
    "\n",
    "y_pred = model.predict(X_test)\n",
    "mse = mean_squared_error(y_test, y_pred)\n",
    "r2 = r2_score(y_test, y_pred)\n",
    "\n",
    "print(f\"Mean Squared Error after filtering and including more features: {mse}\")\n",
    "print(f\"R-squared after filtering and including more features: {r2}\")"
   ]
  },
  {
   "cell_type": "code",
   "execution_count": 63,
   "id": "ee293cd1",
   "metadata": {},
   "outputs": [
    {
     "name": "stdout",
     "output_type": "stream",
     "text": [
      "                Price  Brand_Code  Colour_Code\n",
      "Price        1.000000    0.015393     0.008456\n",
      "Brand_Code   0.015393    1.000000    -0.000379\n",
      "Colour_Code  0.008456   -0.000379     1.000000\n"
     ]
    },
    {
     "name": "stderr",
     "output_type": "stream",
     "text": [
      "/var/folders/38/mqzkxw8x3fq0g_rsgg45lnxw0000gn/T/ipykernel_83263/4145762024.py:2: SettingWithCopyWarning: \n",
      "A value is trying to be set on a copy of a slice from a DataFrame.\n",
      "Try using .loc[row_indexer,col_indexer] = value instead\n",
      "\n",
      "See the caveats in the documentation: https://pandas.pydata.org/pandas-docs/stable/user_guide/indexing.html#returning-a-view-versus-a-copy\n",
      "  df_filtered['Brand_Code'] = df_filtered['Brand'].astype('category').cat.codes\n",
      "/var/folders/38/mqzkxw8x3fq0g_rsgg45lnxw0000gn/T/ipykernel_83263/4145762024.py:3: SettingWithCopyWarning: \n",
      "A value is trying to be set on a copy of a slice from a DataFrame.\n",
      "Try using .loc[row_indexer,col_indexer] = value instead\n",
      "\n",
      "See the caveats in the documentation: https://pandas.pydata.org/pandas-docs/stable/user_guide/indexing.html#returning-a-view-versus-a-copy\n",
      "  df_filtered['Colour_Code'] = df_filtered['Colour'].astype('category').cat.codes\n"
     ]
    },
    {
     "data": {
      "image/png": "[encoded data removed]",
      "text/plain": [
       "<Figure size 800x600 with 2 Axes>"
      ]
     },
     "metadata": {},
     "output_type": "display_data"
    }
   ],
   "source": [
    "# Convert categorical variables to numerical codes for correlation analysis\n",
    "df_filtered['Brand_Code'] = df_filtered['Brand'].astype('category').cat.codes\n",
    "df_filtered['Colour_Code'] = df_filtered['Colour'].astype('category').cat.codes\n",
    "\n",
    "corr_matrix = df_filtered[['Price', 'Brand_Code', 'Colour_Code']].corr()\n",
    "\n",
    "print(corr_matrix)\n",
    "plt.figure(figsize=(8, 6))\n",
    "sns.heatmap(corr_matrix, annot=True, cmap='coolwarm')\n",
    "plt.title('Correlation Matrix')\n",
    "plt.show()\n"
   ]
  },
  {
   "cell_type": "code",
   "execution_count": 64,
   "id": "06e00a12",
   "metadata": {},
   "outputs": [
    {
     "name": "stderr",
     "output_type": "stream",
     "text": [
      "/var/folders/38/mqzkxw8x3fq0g_rsgg45lnxw0000gn/T/ipykernel_83263/2835945517.py:2: SettingWithCopyWarning: \n",
      "A value is trying to be set on a copy of a slice from a DataFrame.\n",
      "Try using .loc[row_indexer,col_indexer] = value instead\n",
      "\n",
      "See the caveats in the documentation: https://pandas.pydata.org/pandas-docs/stable/user_guide/indexing.html#returning-a-view-versus-a-copy\n",
      "  df_filtered['Log_Price'] = np.log(df_filtered['Price'] + 1)  # Adding 1 to avoid log(0)\n"
     ]
    },
    {
     "name": "stdout",
     "output_type": "stream",
     "text": [
      "Mean Squared Error after log transformation: 7.12229773959082e+22\n",
      "R-squared after log transformation: -6.073061163431163e+23\n"
     ]
    }
   ],
   "source": [
    "# Apply log transformation to 'Price'\n",
    "df_filtered['Log_Price'] = np.log(df_filtered['Price'] + 1)  # Adding 1 to avoid log(0)\n",
    "\n",
    "X = encoded_features\n",
    "y = df_filtered['Log_Price']\n",
    "\n",
    "X_train, X_test, y_train, y_test = train_test_split(X, y, test_size=0.3, random_state=42)\n",
    "\n",
    "scaler = StandardScaler()\n",
    "X_train = scaler.fit_transform(X_train)\n",
    "X_test = scaler.transform(X_test)\n",
    "\n",
    "model = LinearRegression()\n",
    "model.fit(X_train, y_train)\n",
    "\n",
    "y_pred = model.predict(X_test)\n",
    "mse = mean_squared_error(y_test, y_pred)\n",
    "r2 = r2_score(y_test, y_pred)\n",
    "\n",
    "print(f\"Mean Squared Error after log transformation: {mse}\")\n",
    "print(f\"R-squared after log transformation: {r2}\")\n"
   ]
  },
  {
   "cell_type": "code",
   "execution_count": 65,
   "id": "7efb0d45",
   "metadata": {},
   "outputs": [
    {
     "name": "stdout",
     "output_type": "stream",
     "text": [
      "Mean Squared Error after feature engineering: 7.12229773959082e+22\n",
      "R-squared after feature engineering: -6.073061163431163e+23\n"
     ]
    }
   ],
   "source": [
    "# Re-encode 'Brand' and 'Colour' as features\n",
    "encoder = OneHotEncoder(drop='first')\n",
    "encoded_features = encoder.fit_transform(df_filtered[['Brand', 'Colour']]).toarray()\n",
    "\n",
    "\n",
    "X = encoded_features\n",
    "y = df_filtered['Log_Price']\n",
    "\n",
    "\n",
    "X_train, X_test, y_train, y_test = train_test_split(X, y, test_size=0.3, random_state=42)\n",
    "\n",
    "scaler = StandardScaler()\n",
    "X_train = scaler.fit_transform(X_train)\n",
    "X_test = scaler.transform(X_test)\n",
    "\n",
    "model = LinearRegression()\n",
    "model.fit(X_train, y_train)\n",
    "\n",
    "\n",
    "y_pred = model.predict(X_test)\n",
    "\n",
    "mse = mean_squared_error(y_test, y_pred)\n",
    "r2 = r2_score(y_test, y_pred)\n",
    "\n",
    "print(f\"Mean Squared Error after feature engineering: {mse}\")\n",
    "print(f\"R-squared after feature engineering: {r2}\")\n"
   ]
  },
  {
   "cell_type": "code",
   "execution_count": 66,
   "id": "65d69273",
   "metadata": {},
   "outputs": [
    {
     "name": "stdout",
     "output_type": "stream",
     "text": [
      "Decision Tree MSE: 0.09230293155683564\n",
      "Decision Tree R-squared: 0.2129487289015417\n",
      "Random Forest MSE: 0.08447701492609719\n",
      "Random Forest R-squared: 0.2796789781779756\n"
     ]
    }
   ],
   "source": [
    "from sklearn.tree import DecisionTreeRegressor\n",
    "from sklearn.ensemble import RandomForestRegressor\n",
    "\n",
    "tree_model = DecisionTreeRegressor(random_state=42)\n",
    "tree_model.fit(X_train, y_train)\n",
    "tree_y_pred = tree_model.predict(X_test)\n",
    "tree_mse = mean_squared_error(y_test, tree_y_pred)\n",
    "tree_r2 = r2_score(y_test, tree_y_pred)\n",
    "print(f\"Decision Tree MSE: {tree_mse}\")\n",
    "print(f\"Decision Tree R-squared: {tree_r2}\")\n",
    "\n",
    "forest_model = RandomForestRegressor(random_state=42, n_estimators=100)\n",
    "forest_model.fit(X_train, y_train)\n",
    "forest_y_pred = forest_model.predict(X_test)\n",
    "forest_mse = mean_squared_error(y_test, forest_y_pred)\n",
    "forest_r2 = r2_score(y_test, forest_y_pred)\n",
    "print(f\"Random Forest MSE: {forest_mse}\")\n",
    "print(f\"Random Forest R-squared: {forest_r2}\")\n"
   ]
  },
  {
   "cell_type": "code",
   "execution_count": 67,
   "id": "bc9b6dec",
   "metadata": {},
   "outputs": [
    {
     "name": "stdout",
     "output_type": "stream",
     "text": [
      "Decision Tree MSE: 0.09230293155683564\n",
      "Decision Tree R-squared: 0.2129487289015417\n",
      "Random Forest MSE: 0.08447701492609719\n",
      "Random Forest R-squared: 0.2796789781779756\n"
     ]
    }
   ],
   "source": [
    "print(f\"Decision Tree MSE: {tree_mse}\")\n",
    "print(f\"Decision Tree R-squared: {tree_r2}\")\n",
    "\n",
    "print(f\"Random Forest MSE: {forest_mse}\")\n",
    "print(f\"Random Forest R-squared: {forest_r2}\")\n"
   ]
  },
  {
   "cell_type": "code",
   "execution_count": null,
   "id": "f6f3106e",
   "metadata": {},
   "outputs": [],
   "source": []
  }
 ],
 "metadata": {
  "kernelspec": {
   "display_name": "Python 3 (ipykernel)",
   "language": "python",
   "name": "python3"
  },
  "language_info": {
   "codemirror_mode": {
    "name": "ipython",
    "version": 3
   },
   "file_extension": ".py",
   "mimetype": "text/x-python",
   "name": "python",
   "nbconvert_exporter": "python",
   "pygments_lexer": "ipython3",
   "version": "3.11.5"
  }
 },
 "nbformat": 4,
 "nbformat_minor": 5
}
